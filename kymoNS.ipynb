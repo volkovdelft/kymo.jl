{
 "cells": [
  {
   "cell_type": "code",
   "execution_count": 1,
   "id": "0cfa824c",
   "metadata": {},
   "outputs": [],
   "source": [
    "using Images\n",
    "using PyPlot\n",
    "using Statistics\n",
    "using LsqFit\n",
    "using DelimitedFiles\n",
    "\n",
    "#setting the correct GUI backend for proper figure display\n",
    "include(\"utils.jl\")\n",
    "set_gui();"
   ]
  },
  {
   "cell_type": "code",
   "execution_count": 48,
   "id": "86a039da",
   "metadata": {},
   "outputs": [],
   "source": [
    "#provide a path to the kymograph\n",
    "img_path = \"C:/Users/vavol/Documents/work/art/our papers/NS methods paper/NS_examples/dynein/170705/\"\n",
    "img_name = \"170705 ch1 exp6 kymo1.tif\"\n",
    "loadpath = string(img_path,img_name);\n",
    "\n",
    "timestep = 1.34;  #dt between kymograph lines in seconds\n",
    "mag = 0.107;   #pixel size in micrometers\n",
    "\n",
    "#which channel of the kymograph contains moving particles to trace?\n",
    "channel = 2;\n",
    "\n",
    "#load the full tiff and display the channel we will be analyzing\n",
    "img = Float32.(load(loadpath));\n",
    "img_a = Float32.(img);\n",
    "kymograph = copy(img_a[1:160,:,channel]);\n",
    "imshow(kymograph);"
   ]
  },
  {
   "cell_type": "code",
   "execution_count": 5,
   "id": "785c402c",
   "metadata": {},
   "outputs": [
    {
     "data": {
      "text/plain": [
       "(1, 158, 20, 43)"
      ]
     },
     "execution_count": 5,
     "metadata": {},
     "output_type": "execute_result"
    }
   ],
   "source": [
    "#manually select a portion of the kymograph containing only one moving spot\n",
    "#click twice on the kymograph: once on top left corner of our future crop, once on bottom right corner\n",
    "coords = zeros(4);\n",
    "coords = ginput_routine(2,kymograph)"
   ]
  },
  {
   "cell_type": "code",
   "execution_count": 6,
   "id": "8e42090c",
   "metadata": {},
   "outputs": [],
   "source": [
    "#display the cropped kymograph defined by our clicks\n",
    "crop = kymograph[coords[1]:coords[2],coords[3]:coords[4]];\n",
    "cropfig = figure();\n",
    "imshow(crop);"
   ]
  },
  {
   "cell_type": "code",
   "execution_count": 56,
   "id": "acc28720",
   "metadata": {},
   "outputs": [],
   "source": [
    "#optional\n",
    "#fine-tune cropped kymograph\n",
    "coords = (coords[1], coords[2], coords[3]+3, coords[4])\n",
    "crop = kymograph[coords[1]:coords[2],coords[3]:coords[4]];\n",
    "close(cropfig);\n",
    "cropfig = figure();\n",
    "imshow(crop);"
   ]
  },
  {
   "cell_type": "code",
   "execution_count": 62,
   "id": "59079f3e",
   "metadata": {},
   "outputs": [
    {
     "data": {
      "text/plain": [
       "(1, 11, 20, 24)"
      ]
     },
     "execution_count": 62,
     "metadata": {},
     "output_type": "execute_result"
    }
   ],
   "source": [
    "#record background (BG) intensity\n",
    "#click twice on the cropped kymograph selecting a rectangle without moving particles\n",
    "BG_coords = ginput_routine(2,crop)"
   ]
  },
  {
   "cell_type": "code",
   "execution_count": 54,
   "id": "d322cb21",
   "metadata": {},
   "outputs": [
    {
     "data": {
      "text/plain": [
       "(43, 67, 9, 15)"
      ]
     },
     "execution_count": 54,
     "metadata": {},
     "output_type": "execute_result"
    }
   ],
   "source": [
    "#record initial intensity and initial position of the moving particle\n",
    "#click twice on the cropped kymograph selecting a rectangle containing >=10 initial positions of the moving particle\n",
    "peak_coords = ginput_routine(2,crop)"
   ]
  },
  {
   "cell_type": "code",
   "execution_count": 63,
   "id": "566d478e",
   "metadata": {},
   "outputs": [],
   "source": [
    "#to get NS length instead of NS end position:\n",
    "d = mean(crop[BG_coords[1]:BG_coords[2],BG_coords[3]:BG_coords[4]]);                #mean background intensity\n",
    "dsd = stdm((crop[BG_coords[1]:BG_coords[2],BG_coords[3]:BG_coords[4]]), d);         #background SD\n",
    "t = size(crop,1);\n",
    "timepix = zeros(t);\n",
    "c_av = zeros(t);\n",
    "timesec = zeros(t);\n",
    "NSposition = zeros(t);\n",
    "let d = d, dsd = dsd\n",
    "    for j in 1:t\n",
    "        ydata = crop[j,:];\n",
    "        xdata = collect(1:length(ydata));\n",
    "        s_av = zeros(length(xdata)-2)\n",
    "        for i in 2:length(xdata)-2\n",
    "            s_av[i] = mean(ydata[i-1:i+1]);\n",
    "        end\n",
    "        (r,c) = findall(pp->pp>d+dsd,s_av);\n",
    "        c_av[j] = mean(c);\n",
    "        NSposition[j] = mean(c) * 2 * mag;\n",
    "        timepix[j] = j;\n",
    "        timesec[j] = j*timestep;\n",
    "    end\n",
    "end\n",
    "#plot fitted coordinates\n",
    "figNS = figure(img_name, figsize=(4,8));\n",
    "subplot(121, title=\"cropped kymograph\", xlabel=\"position\", ylabel=\"time\");\n",
    "imshow(crop);\n",
    "\n",
    "subplot(122, title=\"fitted coordinates\", xlabel=\"position\", ylabel=\"time\");\n",
    "imshow(crop);\n",
    "ylim(t,0);\n",
    "xlim(0,length(crop[1,:]));\n",
    "grid(\"on\");\n",
    "pl = scatter(c_av, timepix, facecolor=\"none\", edgecolors=\"red\", s = 30);\n",
    "PyPlot.title(img_name);\n",
    "\n",
    "#plot position and intensity of the diffusing spot over time\n",
    "figNS2 = figure(figsize=(8,5));\n",
    "xlabel(\"time (s)\");\n",
    "font1 = Dict(\"color\"=>\"blue\");\n",
    "ylabel(\"position (micrometer)\",fontdict=font1);\n",
    "p2 = plot(timesec,NSposition, color=\"blue\");\n",
    "xlim(0, maximum(timesec));\n",
    "ylim(0, maximum(NSposition));\n",
    "ax = gca()\n",
    "\n",
    "PyPlot.title(img_name);"
   ]
  },
  {
   "cell_type": "code",
   "execution_count": 39,
   "id": "e792d406",
   "metadata": {},
   "outputs": [],
   "source": [
    "#prepare initial values for the spot fitting function  \n",
    "d = mean(crop[BG_coords[1]:BG_coords[2],BG_coords[3]:BG_coords[4]]);                #mean background intensity\n",
    "dsd = stdm((crop[BG_coords[1]:BG_coords[2],BG_coords[3]:BG_coords[4]]), d);         #background SD\n",
    "a = maximum(crop[peak_coords[1]:peak_coords[2],peak_coords[3]:peak_coords[4]]) - d; #peak height\n",
    "b = (peak_coords[3] + peak_coords[4])/2;                                            #peak position\n",
    "c = - 2;   width_tol = 0.2;                                                         #peak width and its tolerance\n",
    "t = size(crop,1);                                                                   #number of timepoints (kymograph lines)\n",
    "\n",
    "#preallocating fitting result arrays for speed\n",
    "timesec = zeros(t);\n",
    "timepix = zeros(t);\n",
    "pixel = zeros(t);\n",
    "QDposition = zeros(t);\n",
    "intensity = zeros(t);\n",
    "peakwidth = zeros(t);"
   ]
  },
  {
   "cell_type": "code",
   "execution_count": 40,
   "id": "2e9c5951",
   "metadata": {},
   "outputs": [
    {
     "name": "stdout",
     "output_type": "stream",
     "text": [
      "Processing line 150 of 150; a = 1152.0; b = 19.0; c = -2.0\n"
     ]
    }
   ],
   "source": [
    "#we fit each line in our cropped kymograph with a gaussian peak of height a and width c at position b\n",
    "let a = a, b = b, c = c, d = d, dsd = dsd, t = t, width_tol = width_tol\n",
    "    for i in 1:t\n",
    "        ydata = crop[i,:];\n",
    "        xdata = collect(1:length(ydata));\n",
    "        \n",
    "        (a, b, c, d) = fit_gaussian_NS(xdata, ydata, c, d, dsd)\n",
    "        \n",
    "        pixel[i] = b;\n",
    "        timesec[i] = i*timestep;\n",
    "        QDposition[i] = b*mag;\n",
    "        peakwidth[i] = -c;\n",
    "        \n",
    "        if i > 1\n",
    "            if peakwidth[i] > peakwidth[1]*(1+width_tol)\n",
    "                peakwidth[i]=peakwidth[1]*(1+width_tol);\n",
    "            elseif peakwidth[i] < peakwidth[1]*(1-width_tol)\n",
    "                peakwidth[i]=peakwidth[1]*(1-width_tol);\n",
    "            end\n",
    "        end\n",
    "        \n",
    "        intensity[i] = a*peakwidth[i];\n",
    "        \n",
    "        timepix[i] = i;\n",
    "        IJulia.clear_output(true);\n",
    "        println(string(\"Processing line \", i, \" of \", t, \"; a = \", round(a), \"; b = \", round(b)), \"; c = \", round(c))\n",
    "        \n",
    "    end\n",
    "end"
   ]
  },
  {
   "cell_type": "code",
   "execution_count": 64,
   "id": "970e4dc6",
   "metadata": {},
   "outputs": [],
   "source": [
    "#IF USING NS length: plot fitted coordinates\n",
    "fig35 = figure(img_name, figsize=(4,8));\n",
    "subplot(121, title=\"cropped kymograph\", xlabel=\"position\", ylabel=\"time\");\n",
    "imshow(crop);\n",
    "\n",
    "subplot(122, title=\"fitted coordinates\");\n",
    "#imshow(crop);\n",
    "ylim(t,0);\n",
    "xlim(0,length(crop[1,:]));\n",
    "#grid(\"on\");\n",
    "pl = scatter(c_av, timepix, facecolor=\"none\", edgecolors=\"red\", s = 30);\n",
    "PyPlot.title(img_name);"
   ]
  },
  {
   "cell_type": "code",
   "execution_count": 42,
   "id": "c4d130db",
   "metadata": {},
   "outputs": [],
   "source": [
    "#plot position and intensity of the diffusing spot over time\n",
    "fig2 = figure(figsize=(8,5));\n",
    "xlabel(\"time (s)\");\n",
    "font1 = Dict(\"color\"=>\"blue\");\n",
    "ylabel(\"position (micrometer)\",fontdict=font1);\n",
    "p2 = plot(timesec,QDposition, color=\"blue\");\n",
    "xlim(0, maximum(timesec));\n",
    "ylim(0, maximum(QDposition));\n",
    "ax = gca()\n",
    "p3 = plot(timesec,NSposition, color=\"orange\");"
   ]
  },
  {
   "cell_type": "code",
   "execution_count": 43,
   "id": "427d38b9",
   "metadata": {},
   "outputs": [],
   "source": [
    "#plot position and intensity of the diffusing spot over time\n",
    "fig2 = figure(figsize=(8,5));\n",
    "xlabel(\"time (s)\");\n",
    "font1 = Dict(\"color\"=>\"blue\");\n",
    "ylabel(\"position (micrometer)\",fontdict=font1);\n",
    "p2 = plot(timesec,QDposition, color=\"blue\");\n",
    "xlim(0, maximum(timesec));\n",
    "ylim(0, maximum(QDposition));\n",
    "ax = gca()\n",
    "\n",
    "fig2.subplots_adjust(right=0.85);\n",
    "ax2 = ax.twinx();\n",
    "font2 = Dict(\"color\"=>\"orange\");\n",
    "ylabel(\"intensity (a.u.)\",fontdict=font2);\n",
    "p3 = plot(timesec,NSposition, color=\"orange\");\n",
    "ylim(0, maximum(NSposition));\n",
    "\n",
    "PyPlot.title(img_name);"
   ]
  },
  {
   "cell_type": "code",
   "execution_count": 18,
   "id": "8aba1cbc",
   "metadata": {},
   "outputs": [],
   "source": [
    "#saving NS length intead of position\n",
    "#check if there's a folder to save data\n",
    "let savepath = string(img_path, \"traced/\")\n",
    "    if isdir(savepath) == false\n",
    "        mkdir(savepath)\n",
    "    end \n",
    "end\n",
    "\n",
    "#saving the data: *subcrop.tif and a tab-delimited text file with fitting results\n",
    "#multiple spots from the same kymograph will be saved with increasing index in the filename\n",
    "function fcheck()\n",
    "    filecount = 1;\n",
    "    savename = string(img_path, \"traced/\", img_name[1:end-4], \"-\", filecount, \".txt\");\n",
    "    while isfile(savename) == true\n",
    "        filecount = filecount + 1\n",
    "        savename = string(img_path, \"traced/\", img_name[1:end-4], \"-\", filecount, \".txt\");\n",
    "    end\n",
    "    return filecount\n",
    "end\n",
    "\n",
    "filecount = fcheck();\n",
    "\n",
    "savenameNS = string(img_path, \"traced/\", img_name[1:end-4], \"-\", filecount, \".txt\")\n",
    "open(savenameNS, \"w\") do io;\n",
    "    writedlm(io, [timesec NSposition]);\n",
    "end\n",
    "\n",
    "subcropname = string(img_path, \"traced/\", img_name[1:end-4], \"-\", filecount, \"_subcrop.tif\");\n",
    "save(subcropname, colorview(Gray, crop));"
   ]
  },
  {
   "cell_type": "code",
   "execution_count": 75,
   "id": "0a63f3aa",
   "metadata": {
    "scrolled": true
   },
   "outputs": [],
   "source": [
    "#check if there's a folder to save data\n",
    "let savepath = string(img_path, \"traced/\")\n",
    "    if isdir(savepath) == false\n",
    "        mkdir(savepath)\n",
    "    end \n",
    "end\n",
    "\n",
    "#saving the data: *subcrop.tif and a tab-delimited text file with fitting results\n",
    "#multiple spots from the same kymograph will be saved with increasing index in the filename\n",
    "function fcheck()\n",
    "    filecount = 1;\n",
    "    savename = string(img_path, \"traced/\", img_name[1:end-4], \"-\", filecount, \".txt\");\n",
    "    while isfile(savename) == true\n",
    "        filecount = filecount + 1\n",
    "        savename = string(img_path, \"traced/\", img_name[1:end-4], \"-\", filecount, \".txt\");\n",
    "    end\n",
    "    return filecount\n",
    "end\n",
    "\n",
    "filecount = fcheck();\n",
    "\n",
    "savename = string(img_path, \"traced/\", img_name[1:end-4], \"-\", filecount, \".txt\")\n",
    "open(savename, \"w\") do io;\n",
    "    writedlm(io, [timesec QDposition intensity]);\n",
    "end\n",
    "\n",
    "subcropname = string(img_path, \"traced/\", img_name[1:end-4], \"-\", filecount, \"_subcrop.tif\");\n",
    "save(subcropname, colorview(Gray, crop));"
   ]
  },
  {
   "cell_type": "code",
   "execution_count": 502,
   "id": "b524ad79",
   "metadata": {},
   "outputs": [],
   "source": [
    "close(\"all\")"
   ]
  },
  {
   "cell_type": "code",
   "execution_count": null,
   "id": "4a9153de",
   "metadata": {},
   "outputs": [],
   "source": [
    "#optional, checking the saved files\n"
   ]
  }
 ],
 "metadata": {
  "kernelspec": {
   "display_name": "Julia 1.6.5",
   "language": "julia",
   "name": "julia-1.6"
  },
  "language_info": {
   "file_extension": ".jl",
   "mimetype": "application/julia",
   "name": "julia",
   "version": "1.6.5"
  }
 },
 "nbformat": 4,
 "nbformat_minor": 5
}
