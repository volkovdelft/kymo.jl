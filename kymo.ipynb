{
 "cells": [
  {
   "cell_type": "code",
   "execution_count": 55,
   "id": "0cfa824c",
   "metadata": {},
   "outputs": [
    {
     "ename": "LoadError",
     "evalue": "ArgumentError: Package FileIO not found in current path:\n- Run `import Pkg; Pkg.add(\"FileIO\")` to install the FileIO package.\n",
     "output_type": "error",
     "traceback": [
      "ArgumentError: Package FileIO not found in current path:\n- Run `import Pkg; Pkg.add(\"FileIO\")` to install the FileIO package.\n",
      "",
      "Stacktrace:",
      " [1] require(into::Module, mod::Symbol)",
      "   @ Base .\\loading.jl:893",
      " [2] eval",
      "   @ .\\boot.jl:360 [inlined]",
      " [3] include_string(mapexpr::typeof(REPL.softscope), mod::Module, code::String, filename::String)",
      "   @ Base .\\loading.jl:1116"
     ]
    }
   ],
   "source": [
    "using Images\n",
    "using PyPlot\n",
    "using Statistics\n",
    "using LsqFit\n",
    "using DelimitedFiles\n",
    "\n",
    "#setting the correct GUI backend for proper figure display\n",
    "include(\"utils.jl\")\n",
    "set_gui();"
   ]
  },
  {
   "cell_type": "code",
   "execution_count": 11,
   "id": "86a039da",
   "metadata": {},
   "outputs": [],
   "source": [
    "#provide a path to the kymograph\n",
    "img_path = \"C:/Users/vavol/Documents/work/art/our papers/dLoop/Dec 2021 SM TIRF/211221_cont/ave kymos/ch1 dL trimer FL monomer/\"\n",
    "img_name = \"ch1 dLoop  trimer FL monomer kymo1.tif\"\n",
    "loadpath = string(img_path,img_name);\n",
    "\n",
    "timestep = 2;  #dt between kymograph lines in seconds\n",
    "mag = 0.129;   #pixel size in micrometers\n",
    "\n",
    "#which channel of the kymograph contains moving particles to trace?\n",
    "channel = 1;\n",
    "\n",
    "#load the full tiff and display the channel we will be analyzing\n",
    "img = Float32.(load(loadpath));\n",
    "img_a = Float32.(img);\n",
    "kymograph = copy(img_a[:,:,channel]);\n",
    "imshow(kymograph);"
   ]
  },
  {
   "cell_type": "code",
   "execution_count": 12,
   "id": "785c402c",
   "metadata": {},
   "outputs": [],
   "source": [
    "#manually select a portion of the kymograph containing only one moving spot\n",
    "#click twice on the kymograph: once on top left corner of our future crop, once on bottom right corner\n",
    "coords = zeros(0);\n",
    "coords = ginput_routine(2,kymograph);\n",
    "\n",
    "#display the cropped kymograph defined by our clicks\n",
    "crop = kymograph[coords[1]:coords[2],coords[3]:coords[4]];\n",
    "imshow(crop);"
   ]
  },
  {
   "cell_type": "code",
   "execution_count": 13,
   "id": "59079f3e",
   "metadata": {},
   "outputs": [],
   "source": [
    "#record background (BG) intensity\n",
    "#click twice on the cropped kymograph selecting a rectangle without moving particles\n",
    "BG_coords = ginput_routine(2,crop)"
   ]
  },
  {
   "cell_type": "code",
   "execution_count": 14,
   "id": "d322cb21",
   "metadata": {},
   "outputs": [],
   "source": [
    "#record initial intensity and initial position of the moving particle\n",
    "#click twice on the cropped kymograph selecting a rectangle containing >=10 initial positions of the moving particle\n",
    "peak_coords = ginput_routine(2,crop)"
   ]
  },
  {
   "cell_type": "code",
   "execution_count": 15,
   "id": "e792d406",
   "metadata": {},
   "outputs": [],
   "source": [
    "#prepare initial values for the spot fitting function \n",
    "a = maximum(crop[peak_coords[1]:peak_coords[2],peak_coords[3]:peak_coords[4]]) - d; #peak height\n",
    "b = (peak_coords[3] + peak_coords[4])/2;                                            #peak position\n",
    "c = - 2;                                                                          #peak width\n",
    "d = mean(crop[BG_coords[1]:BG_coords[2],BG_coords[3]:BG_coords[4]]);                #mean background intensity\n",
    "dsd = stdm((crop[BG_coords[1]:BG_coords[2],BG_coords[3]:BG_coords[4]]), d);         #background SD\n",
    "t = size(crop,1);                                                                   #number of timepoints (kymograph lines)\n",
    "\n",
    "#preallocating fitting result arrays for speed\n",
    "timesec = zeros(t);\n",
    "timepix = zeros(t);\n",
    "pixel = zeros(t);\n",
    "position = zeros(t);\n",
    "intensity = zeros(t);"
   ]
  },
  {
   "cell_type": "code",
   "execution_count": 16,
   "id": "2e9c5951",
   "metadata": {},
   "outputs": [
    {
     "name": "stdout",
     "output_type": "stream",
     "text": [
      "Processing line 397 of 397; a = 789.0; b = 44.0\n"
     ]
    }
   ],
   "source": [
    "#we fit each line in our cropped kymograph with a gaussian peak of height a and width c at position b\n",
    "let a = a, b = b, c = c, d = d, dsd = dsd, t = t\n",
    "    for i in 1:t\n",
    "        ydata = crop[i,:];\n",
    "        xdata = collect(1:length(ydata));\n",
    "        \n",
    "        (a, b, c) = fit_gaussian(xdata, ydata, a, b, c, d, dsd)\n",
    "        \n",
    "        timepix[i] = i;\n",
    "        pixel[i] = b;\n",
    "        timesec[i] = i*timestep;\n",
    "        position[i] = b*mag;\n",
    "        intensity[i] = a*-c;\n",
    "        \n",
    "        IJulia.clear_output(true);\n",
    "        println(string(\"Processing line \", i, \" of \", t, \"; a = \", round(a), \"; b = \", round(b)))\n",
    "    end\n",
    "end"
   ]
  },
  {
   "cell_type": "code",
   "execution_count": 17,
   "id": "970e4dc6",
   "metadata": {},
   "outputs": [],
   "source": [
    "#plot fitted coordinates\n",
    "fig = figure(img_name, figsize=(4,8));\n",
    "subplot(121, title=\"cropped kymograph\", xlabel=\"position\", ylabel=\"time\");\n",
    "imshow(crop);\n",
    "\n",
    "subplot(122, title=\"fitted coordinates\", xlabel=\"position\", ylabel=\"time\");\n",
    "imshow(crop);\n",
    "ylim(t,0);\n",
    "xlim(0,length(crop[1,:]));\n",
    "grid(\"on\");\n",
    "pl = scatter(pixel, timepix, facecolor=\"none\", edgecolors=\"red\", s = 30);\n",
    "PyPlot.title(img_name);"
   ]
  },
  {
   "cell_type": "code",
   "execution_count": 18,
   "id": "427d38b9",
   "metadata": {},
   "outputs": [],
   "source": [
    "fig2 = figure(figsize=(8,5));\n",
    "xlabel(\"time (s)\");\n",
    "font1 = Dict(\"color\"=>\"blue\");\n",
    "ylabel(\"position (micrometer)\",fontdict=font1);\n",
    "p2 = plot(timesec,position, color=\"blue\");\n",
    "xlim(0, maximum(timesec));\n",
    "ylim(0, maximum(position));\n",
    "ax = gca()\n",
    "\n",
    "fig2.subplots_adjust(right=0.85);\n",
    "ax2 = ax.twinx();\n",
    "font2 = Dict(\"color\"=>\"orange\");\n",
    "ylabel(\"intensity (a.u.)\",fontdict=font2);\n",
    "p3 = plot(timesec,intensity, color=\"orange\");\n",
    "ylim(0, maximum(intensity));\n",
    "\n",
    "PyPlot.title(img_name);"
   ]
  },
  {
   "cell_type": "code",
   "execution_count": 19,
   "id": "b841ab7a",
   "metadata": {},
   "outputs": [],
   "source": [
    "let savepath = string(img_path, \"traced/\")\n",
    "    if isdir(savepath) == false\n",
    "        mkdir(savepath)\n",
    "    end \n",
    "end"
   ]
  },
  {
   "cell_type": "code",
   "execution_count": 124,
   "id": "0a63f3aa",
   "metadata": {
    "scrolled": true
   },
   "outputs": [],
   "source": [
    "function fcheck()\n",
    "    filecount = 1;\n",
    "    savename = string(img_path, \"traced/\", img_name[1:end-4], \"-\", filecount, \".txt\");\n",
    "    while isfile(savename) == true\n",
    "        filecount = filecount + 1\n",
    "        savename = string(img_path, \"traced/\", img_name[1:end-4], \"-\", filecount, \".txt\");\n",
    "    end\n",
    "    return filecount\n",
    "end\n",
    "\n",
    "filecount = fcheck();\n",
    "\n",
    "savename = string(img_path, \"traced/\", img_name[1:end-4], \"-\", filecount, \".txt\")\n",
    "open(savename, \"w\") do io;\n",
    "    writedlm(io, [timesec position intensity]);\n",
    "end\n",
    "\n",
    "subcropname = string(img_path, \"traced/\", img_name[1:end-4], \"-\", filecount, \"_subcrop.tif\");\n",
    "FileIO.save(subcropname, colorview(Gray, crop));"
   ]
  },
  {
   "cell_type": "code",
   "execution_count": null,
   "id": "b524ad79",
   "metadata": {},
   "outputs": [],
   "source": []
  }
 ],
 "metadata": {
  "kernelspec": {
   "display_name": "Julia 1.6.5",
   "language": "julia",
   "name": "julia-1.6"
  },
  "language_info": {
   "file_extension": ".jl",
   "mimetype": "application/julia",
   "name": "julia",
   "version": "1.6.5"
  }
 },
 "nbformat": 4,
 "nbformat_minor": 5
}
